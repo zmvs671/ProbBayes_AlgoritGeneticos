{
  "cells": [
    {
      "cell_type": "markdown",
      "metadata": {
        "id": "_b5CvVweYeUe"
      },
      "source": [
        "#Probabilidad de Bayes y Algoritmos Genéticos"
      ]
    },
    {
      "cell_type": "markdown",
      "metadata": {
        "id": "6MaclltQXHhx"
      },
      "source": [
        "**Nombre:** Silvia Viridiana Maldonado Zamora."
      ]
    },
    {
      "cell_type": "markdown",
      "metadata": {
        "id": "D6m5qwFuYqaH"
      },
      "source": [
        "##Proyecto 1\n",
        "Se sabe que el crecimiento poblacional está determinado por la función logística\n",
        "\\begin{equation}\n",
        "x(t)=\\frac{bx_o}{x_o + (b-x_o)e^{-at}}\n",
        "\\end{equation}\n",
        "Esta función queda caracterizada por tres parámetros: $x_0$ es la población al tiempo $t= 0$, $b$ es la población máxima a la que se puede llegar (se llama límite de saturación y es el valor\n",
        "de $x(t)$ en el límite $t$ → ∞; finalmente, $a$ es la tasa de crecimiento. Por supuesto, $x(t)$ es el tamaño de la población al tiempo $t$.\n",
        "\n",
        "Implementa un algoritmo genético para encontrar los parámetros que mejor ajustan a los datos reales partiendo de la función logística con los parámetros iniciales $x_0=20$, $a=0.06$ y $b=162$."
      ]
    },
    {
      "cell_type": "code",
      "execution_count": null,
      "metadata": {
        "id": "D70kI40ckotp"
      },
      "outputs": [],
      "source": [
        "#paqueterias\n",
        "import numpy as np\n",
        "import matplotlib.pyplot as plt\n",
        "import pandas as pd\n",
        "import random"
      ]
    },
    {
      "cell_type": "code",
      "execution_count": null,
      "metadata": {
        "colab": {
          "base_uri": "https://localhost:8080/",
          "height": 419
        },
        "id": "Swbq-HULo7qK",
        "outputId": "a956b35d-e05d-44a8-dd3a-251e4a5c4c19"
      },
      "outputs": [
        {
          "data": {
            "application/vnd.google.colaboratory.intrinsic+json": {
              "summary": "{\n  \"name\": \"df1\",\n  \"rows\": 84,\n  \"fields\": [\n    {\n      \"column\": 0,\n      \"properties\": {\n        \"dtype\": \"number\",\n        \"std\": 24,\n        \"min\": 0,\n        \"max\": 83,\n        \"num_unique_values\": 84,\n        \"samples\": [\n          73,\n          0,\n          58\n        ],\n        \"semantic_type\": \"\",\n        \"description\": \"\"\n      }\n    },\n    {\n      \"column\": 1,\n      \"properties\": {\n        \"dtype\": \"number\",\n        \"std\": 35.679182633364356,\n        \"min\": 19.763,\n        \"max\": 128.589,\n        \"num_unique_values\": 84,\n        \"samples\": [\n          118.395,\n          19.763,\n          100.679\n        ],\n        \"semantic_type\": \"\",\n        \"description\": \"\"\n      }\n    }\n  ]\n}",
              "type": "dataframe",
              "variable_name": "df1"
            },
            "text/html": [
              "\n",
              "  <div id=\"df-7c190039-b030-428c-866d-bdcfb67a364e\" class=\"colab-df-container\">\n",
              "    <div>\n",
              "<style scoped>\n",
              "    .dataframe tbody tr th:only-of-type {\n",
              "        vertical-align: middle;\n",
              "    }\n",
              "\n",
              "    .dataframe tbody tr th {\n",
              "        vertical-align: top;\n",
              "    }\n",
              "\n",
              "    .dataframe thead th {\n",
              "        text-align: right;\n",
              "    }\n",
              "</style>\n",
              "<table border=\"1\" class=\"dataframe\">\n",
              "  <thead>\n",
              "    <tr style=\"text-align: right;\">\n",
              "      <th></th>\n",
              "      <th>0</th>\n",
              "      <th>1</th>\n",
              "    </tr>\n",
              "  </thead>\n",
              "  <tbody>\n",
              "    <tr>\n",
              "      <th>1940</th>\n",
              "      <td>0</td>\n",
              "      <td>19.763</td>\n",
              "    </tr>\n",
              "    <tr>\n",
              "      <th>1941</th>\n",
              "      <td>1</td>\n",
              "      <td>20.208</td>\n",
              "    </tr>\n",
              "    <tr>\n",
              "      <th>1942</th>\n",
              "      <td>2</td>\n",
              "      <td>20.657</td>\n",
              "    </tr>\n",
              "    <tr>\n",
              "      <th>1943</th>\n",
              "      <td>3</td>\n",
              "      <td>21.165</td>\n",
              "    </tr>\n",
              "    <tr>\n",
              "      <th>1944</th>\n",
              "      <td>4</td>\n",
              "      <td>21.674</td>\n",
              "    </tr>\n",
              "    <tr>\n",
              "      <th>...</th>\n",
              "      <td>...</td>\n",
              "      <td>...</td>\n",
              "    </tr>\n",
              "    <tr>\n",
              "      <th>2019</th>\n",
              "      <td>79</td>\n",
              "      <td>126.014</td>\n",
              "    </tr>\n",
              "    <tr>\n",
              "      <th>2020</th>\n",
              "      <td>80</td>\n",
              "      <td>126.128</td>\n",
              "    </tr>\n",
              "    <tr>\n",
              "      <th>2021</th>\n",
              "      <td>81</td>\n",
              "      <td>126.976</td>\n",
              "    </tr>\n",
              "    <tr>\n",
              "      <th>2022</th>\n",
              "      <td>82</td>\n",
              "      <td>127.796</td>\n",
              "    </tr>\n",
              "    <tr>\n",
              "      <th>2023</th>\n",
              "      <td>83</td>\n",
              "      <td>128.589</td>\n",
              "    </tr>\n",
              "  </tbody>\n",
              "</table>\n",
              "<p>84 rows × 2 columns</p>\n",
              "</div>\n",
              "    <div class=\"colab-df-buttons\">\n",
              "\n",
              "  <div class=\"colab-df-container\">\n",
              "    <button class=\"colab-df-convert\" onclick=\"convertToInteractive('df-7c190039-b030-428c-866d-bdcfb67a364e')\"\n",
              "            title=\"Convert this dataframe to an interactive table.\"\n",
              "            style=\"display:none;\">\n",
              "\n",
              "  <svg xmlns=\"http://www.w3.org/2000/svg\" height=\"24px\" viewBox=\"0 -960 960 960\">\n",
              "    <path d=\"M120-120v-720h720v720H120Zm60-500h600v-160H180v160Zm220 220h160v-160H400v160Zm0 220h160v-160H400v160ZM180-400h160v-160H180v160Zm440 0h160v-160H620v160ZM180-180h160v-160H180v160Zm440 0h160v-160H620v160Z\"/>\n",
              "  </svg>\n",
              "    </button>\n",
              "\n",
              "  <style>\n",
              "    .colab-df-container {\n",
              "      display:flex;\n",
              "      gap: 12px;\n",
              "    }\n",
              "\n",
              "    .colab-df-convert {\n",
              "      background-color: #E8F0FE;\n",
              "      border: none;\n",
              "      border-radius: 50%;\n",
              "      cursor: pointer;\n",
              "      display: none;\n",
              "      fill: #1967D2;\n",
              "      height: 32px;\n",
              "      padding: 0 0 0 0;\n",
              "      width: 32px;\n",
              "    }\n",
              "\n",
              "    .colab-df-convert:hover {\n",
              "      background-color: #E2EBFA;\n",
              "      box-shadow: 0px 1px 2px rgba(60, 64, 67, 0.3), 0px 1px 3px 1px rgba(60, 64, 67, 0.15);\n",
              "      fill: #174EA6;\n",
              "    }\n",
              "\n",
              "    .colab-df-buttons div {\n",
              "      margin-bottom: 4px;\n",
              "    }\n",
              "\n",
              "    [theme=dark] .colab-df-convert {\n",
              "      background-color: #3B4455;\n",
              "      fill: #D2E3FC;\n",
              "    }\n",
              "\n",
              "    [theme=dark] .colab-df-convert:hover {\n",
              "      background-color: #434B5C;\n",
              "      box-shadow: 0px 1px 3px 1px rgba(0, 0, 0, 0.15);\n",
              "      filter: drop-shadow(0px 1px 2px rgba(0, 0, 0, 0.3));\n",
              "      fill: #FFFFFF;\n",
              "    }\n",
              "  </style>\n",
              "\n",
              "    <script>\n",
              "      const buttonEl =\n",
              "        document.querySelector('#df-7c190039-b030-428c-866d-bdcfb67a364e button.colab-df-convert');\n",
              "      buttonEl.style.display =\n",
              "        google.colab.kernel.accessAllowed ? 'block' : 'none';\n",
              "\n",
              "      async function convertToInteractive(key) {\n",
              "        const element = document.querySelector('#df-7c190039-b030-428c-866d-bdcfb67a364e');\n",
              "        const dataTable =\n",
              "          await google.colab.kernel.invokeFunction('convertToInteractive',\n",
              "                                                    [key], {});\n",
              "        if (!dataTable) return;\n",
              "\n",
              "        const docLinkHtml = 'Like what you see? Visit the ' +\n",
              "          '<a target=\"_blank\" href=https://colab.research.google.com/notebooks/data_table.ipynb>data table notebook</a>'\n",
              "          + ' to learn more about interactive tables.';\n",
              "        element.innerHTML = '';\n",
              "        dataTable['output_type'] = 'display_data';\n",
              "        await google.colab.output.renderOutput(dataTable, element);\n",
              "        const docLink = document.createElement('div');\n",
              "        docLink.innerHTML = docLinkHtml;\n",
              "        element.appendChild(docLink);\n",
              "      }\n",
              "    </script>\n",
              "  </div>\n",
              "\n",
              "\n",
              "<div id=\"df-59e2d90e-2400-4e36-b888-4ea9c28ae6c4\">\n",
              "  <button class=\"colab-df-quickchart\" onclick=\"quickchart('df-59e2d90e-2400-4e36-b888-4ea9c28ae6c4')\"\n",
              "            title=\"Suggest charts\"\n",
              "            style=\"display:none;\">\n",
              "\n",
              "<svg xmlns=\"http://www.w3.org/2000/svg\" height=\"24px\"viewBox=\"0 0 24 24\"\n",
              "     width=\"24px\">\n",
              "    <g>\n",
              "        <path d=\"M19 3H5c-1.1 0-2 .9-2 2v14c0 1.1.9 2 2 2h14c1.1 0 2-.9 2-2V5c0-1.1-.9-2-2-2zM9 17H7v-7h2v7zm4 0h-2V7h2v10zm4 0h-2v-4h2v4z\"/>\n",
              "    </g>\n",
              "</svg>\n",
              "  </button>\n",
              "\n",
              "<style>\n",
              "  .colab-df-quickchart {\n",
              "      --bg-color: #E8F0FE;\n",
              "      --fill-color: #1967D2;\n",
              "      --hover-bg-color: #E2EBFA;\n",
              "      --hover-fill-color: #174EA6;\n",
              "      --disabled-fill-color: #AAA;\n",
              "      --disabled-bg-color: #DDD;\n",
              "  }\n",
              "\n",
              "  [theme=dark] .colab-df-quickchart {\n",
              "      --bg-color: #3B4455;\n",
              "      --fill-color: #D2E3FC;\n",
              "      --hover-bg-color: #434B5C;\n",
              "      --hover-fill-color: #FFFFFF;\n",
              "      --disabled-bg-color: #3B4455;\n",
              "      --disabled-fill-color: #666;\n",
              "  }\n",
              "\n",
              "  .colab-df-quickchart {\n",
              "    background-color: var(--bg-color);\n",
              "    border: none;\n",
              "    border-radius: 50%;\n",
              "    cursor: pointer;\n",
              "    display: none;\n",
              "    fill: var(--fill-color);\n",
              "    height: 32px;\n",
              "    padding: 0;\n",
              "    width: 32px;\n",
              "  }\n",
              "\n",
              "  .colab-df-quickchart:hover {\n",
              "    background-color: var(--hover-bg-color);\n",
              "    box-shadow: 0 1px 2px rgba(60, 64, 67, 0.3), 0 1px 3px 1px rgba(60, 64, 67, 0.15);\n",
              "    fill: var(--button-hover-fill-color);\n",
              "  }\n",
              "\n",
              "  .colab-df-quickchart-complete:disabled,\n",
              "  .colab-df-quickchart-complete:disabled:hover {\n",
              "    background-color: var(--disabled-bg-color);\n",
              "    fill: var(--disabled-fill-color);\n",
              "    box-shadow: none;\n",
              "  }\n",
              "\n",
              "  .colab-df-spinner {\n",
              "    border: 2px solid var(--fill-color);\n",
              "    border-color: transparent;\n",
              "    border-bottom-color: var(--fill-color);\n",
              "    animation:\n",
              "      spin 1s steps(1) infinite;\n",
              "  }\n",
              "\n",
              "  @keyframes spin {\n",
              "    0% {\n",
              "      border-color: transparent;\n",
              "      border-bottom-color: var(--fill-color);\n",
              "      border-left-color: var(--fill-color);\n",
              "    }\n",
              "    20% {\n",
              "      border-color: transparent;\n",
              "      border-left-color: var(--fill-color);\n",
              "      border-top-color: var(--fill-color);\n",
              "    }\n",
              "    30% {\n",
              "      border-color: transparent;\n",
              "      border-left-color: var(--fill-color);\n",
              "      border-top-color: var(--fill-color);\n",
              "      border-right-color: var(--fill-color);\n",
              "    }\n",
              "    40% {\n",
              "      border-color: transparent;\n",
              "      border-right-color: var(--fill-color);\n",
              "      border-top-color: var(--fill-color);\n",
              "    }\n",
              "    60% {\n",
              "      border-color: transparent;\n",
              "      border-right-color: var(--fill-color);\n",
              "    }\n",
              "    80% {\n",
              "      border-color: transparent;\n",
              "      border-right-color: var(--fill-color);\n",
              "      border-bottom-color: var(--fill-color);\n",
              "    }\n",
              "    90% {\n",
              "      border-color: transparent;\n",
              "      border-bottom-color: var(--fill-color);\n",
              "    }\n",
              "  }\n",
              "</style>\n",
              "\n",
              "  <script>\n",
              "    async function quickchart(key) {\n",
              "      const quickchartButtonEl =\n",
              "        document.querySelector('#' + key + ' button');\n",
              "      quickchartButtonEl.disabled = true;  // To prevent multiple clicks.\n",
              "      quickchartButtonEl.classList.add('colab-df-spinner');\n",
              "      try {\n",
              "        const charts = await google.colab.kernel.invokeFunction(\n",
              "            'suggestCharts', [key], {});\n",
              "      } catch (error) {\n",
              "        console.error('Error during call to suggestCharts:', error);\n",
              "      }\n",
              "      quickchartButtonEl.classList.remove('colab-df-spinner');\n",
              "      quickchartButtonEl.classList.add('colab-df-quickchart-complete');\n",
              "    }\n",
              "    (() => {\n",
              "      let quickchartButtonEl =\n",
              "        document.querySelector('#df-59e2d90e-2400-4e36-b888-4ea9c28ae6c4 button');\n",
              "      quickchartButtonEl.style.display =\n",
              "        google.colab.kernel.accessAllowed ? 'block' : 'none';\n",
              "    })();\n",
              "  </script>\n",
              "</div>\n",
              "\n",
              "  <div id=\"id_62d9465b-2dab-4452-a7b2-41098b2a647f\">\n",
              "    <style>\n",
              "      .colab-df-generate {\n",
              "        background-color: #E8F0FE;\n",
              "        border: none;\n",
              "        border-radius: 50%;\n",
              "        cursor: pointer;\n",
              "        display: none;\n",
              "        fill: #1967D2;\n",
              "        height: 32px;\n",
              "        padding: 0 0 0 0;\n",
              "        width: 32px;\n",
              "      }\n",
              "\n",
              "      .colab-df-generate:hover {\n",
              "        background-color: #E2EBFA;\n",
              "        box-shadow: 0px 1px 2px rgba(60, 64, 67, 0.3), 0px 1px 3px 1px rgba(60, 64, 67, 0.15);\n",
              "        fill: #174EA6;\n",
              "      }\n",
              "\n",
              "      [theme=dark] .colab-df-generate {\n",
              "        background-color: #3B4455;\n",
              "        fill: #D2E3FC;\n",
              "      }\n",
              "\n",
              "      [theme=dark] .colab-df-generate:hover {\n",
              "        background-color: #434B5C;\n",
              "        box-shadow: 0px 1px 3px 1px rgba(0, 0, 0, 0.15);\n",
              "        filter: drop-shadow(0px 1px 2px rgba(0, 0, 0, 0.3));\n",
              "        fill: #FFFFFF;\n",
              "      }\n",
              "    </style>\n",
              "    <button class=\"colab-df-generate\" onclick=\"generateWithVariable('df1')\"\n",
              "            title=\"Generate code using this dataframe.\"\n",
              "            style=\"display:none;\">\n",
              "\n",
              "  <svg xmlns=\"http://www.w3.org/2000/svg\" height=\"24px\"viewBox=\"0 0 24 24\"\n",
              "       width=\"24px\">\n",
              "    <path d=\"M7,19H8.4L18.45,9,17,7.55,7,17.6ZM5,21V16.75L18.45,3.32a2,2,0,0,1,2.83,0l1.4,1.43a1.91,1.91,0,0,1,.58,1.4,1.91,1.91,0,0,1-.58,1.4L9.25,21ZM18.45,9,17,7.55Zm-12,3A5.31,5.31,0,0,0,4.9,8.1,5.31,5.31,0,0,0,1,6.5,5.31,5.31,0,0,0,4.9,4.9,5.31,5.31,0,0,0,6.5,1,5.31,5.31,0,0,0,8.1,4.9,5.31,5.31,0,0,0,12,6.5,5.46,5.46,0,0,0,6.5,12Z\"/>\n",
              "  </svg>\n",
              "    </button>\n",
              "    <script>\n",
              "      (() => {\n",
              "      const buttonEl =\n",
              "        document.querySelector('#id_62d9465b-2dab-4452-a7b2-41098b2a647f button.colab-df-generate');\n",
              "      buttonEl.style.display =\n",
              "        google.colab.kernel.accessAllowed ? 'block' : 'none';\n",
              "\n",
              "      buttonEl.onclick = () => {\n",
              "        google.colab.notebook.generateWithVariable('df1');\n",
              "      }\n",
              "      })();\n",
              "    </script>\n",
              "  </div>\n",
              "\n",
              "    </div>\n",
              "  </div>\n"
            ],
            "text/plain": [
              "       0        1\n",
              "1940   0   19.763\n",
              "1941   1   20.208\n",
              "1942   2   20.657\n",
              "1943   3   21.165\n",
              "1944   4   21.674\n",
              "...   ..      ...\n",
              "2019  79  126.014\n",
              "2020  80  126.128\n",
              "2021  81  126.976\n",
              "2022  82  127.796\n",
              "2023  83  128.589\n",
              "\n",
              "[84 rows x 2 columns]"
            ]
          },
          "execution_count": 6,
          "metadata": {},
          "output_type": "execute_result"
        }
      ],
      "source": [
        "años = list(range(1940, 2024))\n",
        "df1 = pd.read_csv('./data/PoblacionMexico.dat', delimiter='\\t', header = None)\n",
        "df1.index = años\n",
        "df1"
      ]
    },
    {
      "cell_type": "code",
      "execution_count": null,
      "metadata": {
        "id": "2rGUzv6ik37z"
      },
      "outputs": [],
      "source": [
        "#Definiendo la funcion logistica\n",
        "def logistica(t, x0, a, b):\n",
        "  return (b*x0)/(x0 + (b-x0)*np.exp(-a*t))"
      ]
    },
    {
      "cell_type": "code",
      "execution_count": null,
      "metadata": {
        "id": "myUEcg19e-Pa"
      },
      "outputs": [],
      "source": [
        "#Distancia para criterio de adaptabilidad\n",
        "def distancia(y, modelo):\n",
        "  return np.sum((y-modelo)**2)\n",
        "y=df1[1]"
      ]
    },
    {
      "cell_type": "code",
      "execution_count": null,
      "metadata": {
        "id": "_TQ2nJOh8xLp"
      },
      "outputs": [],
      "source": [
        "#correr esta celda solo una vez para inicializar las variables\n",
        "#y no perder el conteo\n",
        "mutX,mutA,mutB=0,0,0 #contador de mutaciones aceptadas\n",
        "#parametros iniciales\n",
        "x0 = 20.000 #valor inicial 20.000\n",
        "a = 0.060 #valor inicial 0.060\n",
        "b = 162.000 #valor inicial 162.000"
      ]
    },
    {
      "cell_type": "code",
      "execution_count": null,
      "metadata": {
        "colab": {
          "base_uri": "https://localhost:8080/"
        },
        "id": "aHg70AMao-oU",
        "outputId": "824f3c18-1252-4fbf-b267-73c76f95fba6"
      },
      "outputs": [
        {
          "name": "stdout",
          "output_type": "stream",
          "text": [
            "x0=19.90200, a=0.04100, b=163.89300\n",
            "Mutaciones: x=10, a=21, b=7\n"
          ]
        }
      ],
      "source": [
        "i=1\n",
        "distanciaInicial=distancia(y, modelo=logistica(df1[0],x0, a, b))\n",
        "while i<100000:\n",
        "  mutacion=random.choice(['dx','da','db'])\n",
        "  if mutacion=='dx':\n",
        "    dx=round(np.random.normal(loc=0, scale=0.1),3) #promedio 0, desvEstandar 0.1\n",
        "    x0=x0+dx\n",
        "    modelo=logistica(df1[0],x0, a, b)\n",
        "    i=i+1\n",
        "  elif mutacion=='da':\n",
        "    da=round(np.random.normal(loc=0, scale=0.001),3) #promedio 0, desvEstandar 0.001\n",
        "    a=a+da\n",
        "    modelo=logistica(df1[0],x0, a, b)\n",
        "    i=i+1\n",
        "  elif mutacion=='db':\n",
        "    db=round(np.random.normal(loc=0, scale=0.1),3) #promedio 0, desvEstandar 0.1\n",
        "    b=b+db\n",
        "    modelo=logistica(df1[0],x0, a, b)\n",
        "    i=i+1\n",
        "  distanciaMutacion=distancia(y, modelo)\n",
        "  if distanciaMutacion < distanciaInicial:\n",
        "    if mutacion=='dx':\n",
        "      mutX=mutX+1\n",
        "    elif mutacion=='da':\n",
        "      mutA=mutA+1\n",
        "    elif mutacion=='db':\n",
        "      mutB=mutB+1\n",
        "    break\n",
        "  else:\n",
        "    continue\n",
        "print(f'x0={x0:.5f}, a={a:.5f}, b={b:.5f}')\n",
        "print(f'Mutaciones: x={mutX}, a={mutA}, b={mutB}')"
      ]
    },
    {
      "cell_type": "code",
      "execution_count": null,
      "metadata": {
        "colab": {
          "base_uri": "https://localhost:8080/",
          "height": 472
        },
        "id": "0I6tutiyo-82",
        "outputId": "15602ee9-f613-4914-e5fb-765a7964e85c"
      },
      "outputs": [
        {
          "data": {
            "image/png": "[encoded data removed]",
            "text/plain": [
              "<Figure size 640x480 with 1 Axes>"
            ]
          },
          "metadata": {},
          "output_type": "display_data"
        }
      ],
      "source": [
        "plt.plot(df1.index, df1[1], color='k', linestyle=':')\n",
        "plt.plot(df1.index, modelo, color='r')\n",
        "plt.xlabel('Tiempo')\n",
        "plt.ylabel('Número de personas [millones]')\n",
        "plt.title('Crecimiento Poblacional de México')\n",
        "plt.show()"
      ]
    },
    {
      "cell_type": "markdown",
      "metadata": {
        "id": "Lcm3mxysakqr"
      },
      "source": [
        "###Preguntas\n",
        "\n",
        "1.   **¿Cuánto valen los parámetros que obtuviste de la función logística que mejor ajustan a los datos reales?**\n",
        "x0=19.90200, a=0.04100, b=163.89300\n",
        "2.   **¿Cuántas mutaciones “efectivas” se hicieron en cada parámetro para que el algoritmo converja?**\n",
        "x=10, a=21, b=7\n",
        "3. **Haz la gráfica de los datos reales junto con la curva logística que hayas obtenido que mejor ajusta los datos.**\n",
        "4. **Si el crecimiento de la población en México continua con la misma tendencia, ¿cuántos años nos vamos a tardar en alcanzar el límite de saturación?**\n",
        "Al despejar a $t$ de la ecuación logística, tenemos\n",
        "\\begin{equation*}\n",
        "t = -\\frac{1}{a} \\cdot \\ln\\left( \\frac{x_0 \\cdot (b - x(t))}{(b - x_0) \\cdot x(t)} \\right)\n",
        "\\end{equation*}\n",
        "por lo que considerando los parámetros $x_0=19.90200$, $a=0.04100$, $b=163.89300$ y sustituyendo, obtenemos:\n",
        "\\begin{equation*}\n",
        "t = -\\frac{1}{0.041} \\cdot \\ln\\left( \\frac{19.902 \\cdot (163.893 - x(t))}{(163.893 - 19.902) \\cdot x(t)} \\right)\n",
        "\\end{equation*}\n",
        "Dado que la población al tiempo $t$, $x(t)$ en el límite de saturación es practicamente la misma, representaremos la diferencia como $b-x(t)=0.01$ considerando b=1,y por ende $x(t)=0.99$ para fines prácticos. De esta manera:\n",
        "\\begin{equation*}\n",
        "t = -\\frac{1}{0.041} \\cdot \\ln\\left( \\frac{19.902 \\cdot (0.01)}{(163.893 - 19.902) \\cdot 0.99} \\right) ≈ 160.34\n",
        "\\end{equation*}\n",
        "Por lo que tardaríamos aproximadamente 160.34 años en alcanzar dicho límite\n",
        "5. **¿Cuánto vale la población de saturación en México?**\n",
        "Dado que $b$ es la población máxima a la que se puede llegar, este valor es aproximadamente 163.893 millones de personas\n",
        "6. **¿Crees que es importante disminuir la tasa de crecimiento poblacional en México?**\n",
        "Sí\n",
        "7. **Si consideras que es importante disminuir la tasa de crecimiento poblacional, explica por qué y qué propondrías para hacerlo. Si consideras que no es importante, también explica por qué**\n",
        "Dado que el tiempo para alcanzar el límite de saturación es relativamente cercano, considerando las condciones que propician la tasa de crecimiento constante obtenida, debemos considerar que en la vida real, estas condiciones pueden cambiar y disminuir o aumentar este tiempo. Es importante considerar que los recursos y el espacio en el que crece esta población es limitido, y que ese valor de saturación no contempla la calidad de vida de las personas. Sin embargo, la argumentación de esta respuesta dependería también de la tasa de defunción y migración del país, así como del porcentaje de grupos de población para dar una opinión más acertiva, pues estos factores afectarían el tiempo en que se alcanzaría el valor de saturacion, y el porcentaje de personas que pertenecen a cada grupo hablaría indirecatemnte de la calidad de vida que estas tendrían (recursos para jubulación, población generadora de recursos económicos, atención médica, etc.)\n",
        "\n"
      ]
    },
    {
      "cell_type": "markdown",
      "metadata": {
        "id": "7hYABYcUbe1G"
      },
      "source": [
        "##Proyecto 2\n",
        "Haz lo mismo que en el proyecto anterior, pero con los datos del crecimiento de la población de personas en México con VIH-SID contenidos en el archivo anexo *“PoblaciónVIH_Mexico.dat”*. En este caso tú tendrás que proponer los parámetros iniciales (es decir, tu primera adivinanza) así como las desviaciones estándar de las gaussianas que vas a utilizar para implementar las mutaciones.\n",
        "\n",
        "Los datos presentados en la gráfica anterior y contenidos en el archivo *“PoblaciónVIH_Mexico.dat”* son los casos nuevos reportados cada año. La curva logística\n",
        "se aplica a los casos acumulados (es decir, a la población total acumulada a lo largo del tiempo), por lo que tendrás que generar los datos de los casos acumulados para cada año. Los datos que estamos presentando no contienen las defunciones."
      ]
    },
    {
      "cell_type": "code",
      "execution_count": null,
      "metadata": {
        "id": "SZm2SsTPn5Yn"
      },
      "outputs": [],
      "source": [
        "df2 = pd.read_csv('./data/PoblacionVIH_Mexico.dat', delimiter='\\t', header=None)\n",
        "df2[2] = df2[1].cumsum()\n",
        "df2.index = range(0,41)\n",
        "df2.columns = ['Año', 'Nuevos Casos', 'Casos Acumulados']\n",
        "#df2"
      ]
    },
    {
      "cell_type": "code",
      "execution_count": null,
      "metadata": {
        "id": "OhW2XIY6Bbd6"
      },
      "outputs": [],
      "source": [
        "#criterio de adaptabilidad\n",
        "y=df2['Casos Acumulados']"
      ]
    },
    {
      "cell_type": "code",
      "execution_count": null,
      "metadata": {
        "id": "MOqAbUhYA98J"
      },
      "outputs": [],
      "source": [
        "#correr esta celda solo una vez para inicializar las variables y no perder el conteo\n",
        "mutX,mutA,mutB=0,0,0 #contador de mutaciones aceptadas\n",
        "#parametros iniciales\n",
        "x0 = 65.000 #porque poblacion inicial en 1983 es 67\n",
        "#print(np.mean(df2['Casos Acumulados'])/400000)\n",
        "a = 0.3 #valor inicial 0.060\n",
        "b = 400000.000 #porque ultimo valor acumulado es 377,765"
      ]
    },
    {
      "cell_type": "code",
      "execution_count": null,
      "metadata": {
        "colab": {
          "base_uri": "https://localhost:8080/"
        },
        "id": "rkkZN1OoBIzI",
        "outputId": "4caa100d-7d64-46a4-d0ff-be988856c72f"
      },
      "outputs": [
        {
          "name": "stdout",
          "output_type": "stream",
          "text": [
            "x0=63.21900, a=0.26900, b=399999.80300\n",
            "Mutaciones: x=0, a=0, b=0\n"
          ]
        }
      ],
      "source": [
        "i=1\n",
        "distanciaInicial=distancia(y, modelo=logistica(df1[0],x0, a, b))\n",
        "while i<1000:\n",
        "  mutacion=random.choice(['dx','da','db'])\n",
        "  if mutacion=='dx':\n",
        "    dx=round(np.random.normal(loc=0, scale=0.1),3) #promedio 0, desvEstandar 0.1\n",
        "    x0=x0+dx\n",
        "    modelo=logistica(df2.index,x0, a, b)\n",
        "    i=i+1\n",
        "  elif mutacion=='da':\n",
        "    da=round(np.random.normal(loc=0, scale=0.01),3) #promedio 0, desvEstandar 0.001\n",
        "    a=a+da\n",
        "    modelo=logistica(df2.index,x0, a, b)\n",
        "    i=i+1\n",
        "  elif mutacion=='db':\n",
        "    db=round(np.random.normal(loc=0, scale=0.01),3) #promedio 0, desvEstandar 0.1\n",
        "    b=b+db\n",
        "    modelo=logistica(df2.index,x0, a, b)\n",
        "    i=i+1\n",
        "  \"\"\"distanciaMutacion=distancia(y, modelo)\n",
        "  if distanciaMutacion < distanciaInicial:\n",
        "    if mutacion=='dx':\n",
        "      mutX=mutX+1\n",
        "    elif mutacion=='da':\n",
        "      mutA=mutA+1\n",
        "    elif mutacion=='db':\n",
        "      mutB=mutB+1\n",
        "    break\n",
        "  else:\n",
        "    continue\"\"\"\n",
        "print(f'x0={x0:.5f}, a={a:.5f}, b={b:.5f}')\n",
        "print(f'Mutaciones: x={mutX}, a={mutA}, b={mutB}')"
      ]
    },
    {
      "cell_type": "code",
      "execution_count": null,
      "metadata": {
        "colab": {
          "base_uri": "https://localhost:8080/",
          "height": 474
        },
        "id": "0NSD1j5k6C7h",
        "outputId": "6bcc7e54-6991-4f2a-da70-0119ff438e00"
      },
      "outputs": [
        {
          "data": {
            "image/png": "[encoded data removed]",
            "text/plain": [
              "<Figure size 640x480 with 1 Axes>"
            ]
          },
          "metadata": {},
          "output_type": "display_data"
        }
      ],
      "source": [
        "#plt.plot(df2['Año'], df2['Nuevos Casos'], color='k', marker='o')\n",
        "plt.plot(df2['Año'],df2['Casos Acumulados'], marker='o')\n",
        "plt.plot(df2['Año'], modelo, color='r')\n",
        "plt.xlabel('Tiempo (en años)')\n",
        "plt.ylabel('Número de personas ')\n",
        "plt.title('Crecimiento de la población con VIH-SIDA en México', fontsize=14)\n",
        "plt.show()"
      ]
    },
    {
      "cell_type": "markdown",
      "metadata": {
        "id": "gk0Xf1-7cOg8"
      },
      "source": [
        "###Preguntas\n",
        "\n",
        "1. **Tomando en cuenta los casos acumulados, si la tendencia sigue como hasta ahora respecto a la población con VIH-SIDA, ¿cuántos años faltan para que la curva “se aplane”, es decir, para alcanzar la población de saturación?**\n",
        "2. **¿Cuánto vale la población de saturación?**\n",
        "Se propuso una población inicial de saturación de 400,000 tal que cercano a ese valor, podríamos considerar el valor de b\n",
        "3. **Con base en las respuestas anteriores, ¿consideras que el VIH-SIDA es una enfermedad que ya pasó de moda o que es necesario implementar programas eficientes para atenderla de una mejor manera**\n",
        "Es una enfermedad vigente, inclusive es posible notar que el gráfico de número de casos acumulados tuviera cierta silueta exponencial, por lo que es de suma importancia la implementación de campañas para prevenir su contagio"
      ]
    },
    {
      "cell_type": "markdown",
      "metadata": {
        "id": "eZVrDc6xlEYI"
      },
      "source": [
        "Fue complicado encontrar valores iniciales para los parámetros, sin embargo se propusieron algunos que pese a no brindar un criterio de adaptabilidad optimo, trazaron una base útil para aproximarse lejanamente al acumulado de casos."
      ]
    },
    {
      "cell_type": "code",
      "execution_count": null,
      "metadata": {
        "id": "uFt49t_Ubhu5"
      },
      "outputs": [],
      "source": []
    }
  ],
  "metadata": {
    "colab": {
      "provenance": []
    },
    "kernelspec": {
      "display_name": "Python 3",
      "name": "python3"
    },
    "language_info": {
      "name": "python"
    }
  },
  "nbformat": 4,
  "nbformat_minor": 0
}
